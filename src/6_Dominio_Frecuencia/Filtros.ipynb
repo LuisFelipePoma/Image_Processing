{
  "cells": [
    {
      "cell_type": "code",
      "execution_count": null,
      "metadata": {
        "id": "DnIoN_k2S6gS"
      },
      "outputs": [],
      "source": [
        "#El punto y coma es para que la descarga se ejecute en segundo plano y no muestre la molesta celda\n",
        "#El argumento -q de unzip sirve para que se active el modo quiet y también hace que no se muestre la salida normal"
      ]
    },
    {
      "cell_type": "code",
      "execution_count": null,
      "metadata": {
        "colab": {
          "base_uri": "https://localhost:8080/"
        },
        "id": "YVswiF_WMo-_",
        "outputId": "cd40a217-4bf1-416f-ee5c-b3c77080f084"
      },
      "outputs": [],
      "source": [
        "!gdown 1vtZat_H7an2LtXKvo5WQbdXjyJaNdd_u;\n",
        "!unzip -q Imagenes.zip"
      ]
    },
    {
      "cell_type": "code",
      "execution_count": null,
      "metadata": {
        "colab": {
          "base_uri": "https://localhost:8080/",
          "height": 553
        },
        "id": "dfVtpDrMPdV1",
        "outputId": "d398f58a-977d-4b91-e7f4-325c2d60e3b0"
      },
      "outputs": [],
      "source": [
        "import cv2\n",
        "import numpy as np\n",
        "import matplotlib.pyplot as plt\n",
        "\n",
        "# Leer la imagen en escala de grises\n",
        "im = cv2.imread('Imagenes/cameraman.tif', 0)\n",
        "\n",
        "# Calcular la transformada de Fourier de la imagen\n",
        "f = np.fft.fft2(im)\n",
        "fshift = np.fft.fftshift(f)\n",
        "\n",
        "# Obtener el tamaño de la imagen\n",
        "rows, cols = im.shape\n",
        "crow, ccol = rows//2, cols//2\n",
        "\n",
        "# Filtro de pasa baja\n",
        "support_lp = 60\n",
        "mask_lp = np.ones((rows, cols))\n",
        "mask_lp[crow-support_lp:crow+support_lp, ccol-support_lp:ccol+support_lp] = 0\n",
        "\n",
        "# Filtro de pasa alta\n",
        "support_hp = 30\n",
        "mask_hp = np.zeros((rows, cols))\n",
        "mask_hp[crow-support_hp:crow+support_hp, ccol-support_hp:ccol+support_hp] = 1\n",
        "\n",
        "# Combinar los filtros\n",
        "mask_combined1 = mask_lp + mask_hp\n",
        "# Invertir los colores\n",
        "mask_combined2 = np.where(mask_combined1 == 0, 1, 0)\n",
        "\n",
        "# Mostrar las máscaras\n",
        "plt.figure(figsize=(12,12))\n",
        "plt.subplot(2, 4, 1), plt.imshow(255*mask_lp, cmap='gray')\n",
        "plt.title('pasa baja')\n",
        "plt.subplot(2, 4, 2), plt.imshow(255*mask_hp, cmap='gray')\n",
        "plt.title('pasa alta')\n",
        "plt.subplot(2, 4, 3), plt.imshow(255*mask_combined1, cmap='gray')\n",
        "plt.title('baja + alta')\n",
        "plt.subplot(2, 4, 4), plt.imshow(255*mask_combined2, cmap='gray')\n",
        "plt.title('baja+alta invertido')\n",
        "plt.show()\n",
        "\n",
        "# Aplicar la máscara combinada\n",
        "fshift_filtered1 = fshift * mask_combined1\n",
        "fshift_filtered2 = fshift * mask_combined2\n",
        "fshift1 = fshift * mask_lp\n",
        "fshift2 = fshift * mask_hp\n",
        "\n",
        "# Calcular la transformada inversa de Fourier\n",
        "f_ishift1 = np.fft.ifftshift(fshift1)\n",
        "im_back1 = np.fft.ifft2(f_ishift1)\n",
        "im_back1 = np.abs(im_back1)\n",
        "\n",
        "f_ishift2 = np.fft.ifftshift(fshift2)\n",
        "im_back2 = np.fft.ifft2(f_ishift2)\n",
        "im_back2 = np.abs(im_back2)\n",
        "\n",
        "f_ishift1 = np.fft.ifftshift(fshift_filtered1)\n",
        "im_back3 = np.fft.ifft2(f_ishift1)\n",
        "im_back3 = np.abs(im_back3)\n",
        "\n",
        "f_ishift2 = np.fft.ifftshift(fshift_filtered2)\n",
        "im_back4 = np.fft.ifft2(f_ishift2)\n",
        "im_back4 = np.abs(im_back4)\n",
        "\n",
        "# Mostrar las imágenes resultantes\n",
        "plt.figure(figsize=(12,12))\n",
        "plt.subplot(2, 4, 5), plt.imshow(im_back1, cmap='gray')\n",
        "plt.title('pasa baja')\n",
        "plt.subplot(2, 4, 6), plt.imshow(im_back2, cmap='gray')\n",
        "plt.title('pasa alta')\n",
        "plt.subplot(2, 4, 7), plt.imshow(im_back3, cmap='gray')\n",
        "plt.title('baja + alta')\n",
        "plt.subplot(2, 4, 8), plt.imshow(im_back4, cmap='gray')\n",
        "plt.title('baja+alta invertido')\n",
        "plt.show() "
      ]
    }
  ],
  "metadata": {
    "colab": {
      "provenance": []
    },
    "kernelspec": {
      "display_name": "Python 3",
      "name": "python3"
    },
    "language_info": {
      "codemirror_mode": {
        "name": "ipython",
        "version": 3
      },
      "file_extension": ".py",
      "mimetype": "text/x-python",
      "name": "python",
      "nbconvert_exporter": "python",
      "pygments_lexer": "ipython3",
      "version": "3.11.6"
    }
  },
  "nbformat": 4,
  "nbformat_minor": 0
}
