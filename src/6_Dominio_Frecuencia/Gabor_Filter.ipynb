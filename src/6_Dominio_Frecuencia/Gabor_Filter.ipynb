{
  "cells": [
    {
      "cell_type": "code",
      "execution_count": null,
      "metadata": {
        "colab": {
          "base_uri": "https://localhost:8080/"
        },
        "id": "TgDIHPuQbIZd",
        "outputId": "c89e839b-9d80-4bf1-a1cd-1397e2910f4f"
      },
      "outputs": [],
      "source": [
        "#!pip install fingerprint_enhancer"
      ]
    },
    {
      "cell_type": "code",
      "execution_count": null,
      "metadata": {
        "colab": {
          "base_uri": "https://localhost:8080/"
        },
        "id": "259am-DSaoVs",
        "outputId": "c1d42d76-0a95-4e0a-e98c-63bcb97369fb"
      },
      "outputs": [],
      "source": [
        "!gdown 1Gv7BNkXlz89A_xbQT30IuASdySM1leOz"
      ]
    },
    {
      "cell_type": "code",
      "execution_count": null,
      "metadata": {
        "id": "RTbsk_rYboOo"
      },
      "outputs": [],
      "source": [
        "!gdown 1D8vLNsbLyO40-jtUNSD-YlX1Hv-wkhG5"
      ]
    },
    {
      "cell_type": "code",
      "execution_count": null,
      "metadata": {
        "id": "lz7mS8_ZaVPc"
      },
      "outputs": [],
      "source": [
        "import cv2\n",
        "import fingerprint_enhancer\n",
        "import matplotlib.pyplot as plt\n",
        "\n",
        "img = cv2.imread('1.jpg', 0)\t\t\t\t\t\t# read input image\n",
        "out = fingerprint_enhancer.enhance_Fingerprint(img)\t\t# enhance the fingerprint image\n"
      ]
    },
    {
      "cell_type": "code",
      "execution_count": null,
      "metadata": {
        "colab": {
          "base_uri": "https://localhost:8080/",
          "height": 453
        },
        "id": "j7ysoZ4ObVNU",
        "outputId": "4694ce02-82c0-4d60-fccc-5ab73c2372bd"
      },
      "outputs": [],
      "source": [
        "plt.imshow(out, cmap = 'gray')"
      ]
    }
  ],
  "metadata": {
    "colab": {
      "provenance": []
    },
    "kernelspec": {
      "display_name": "Python 3",
      "name": "python3"
    },
    "language_info": {
      "codemirror_mode": {
        "name": "ipython",
        "version": 3
      },
      "file_extension": ".py",
      "mimetype": "text/x-python",
      "name": "python",
      "nbconvert_exporter": "python",
      "pygments_lexer": "ipython3",
      "version": "3.11.6"
    }
  },
  "nbformat": 4,
  "nbformat_minor": 0
}
