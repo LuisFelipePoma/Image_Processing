{
  "cells": [
    {
      "cell_type": "markdown",
      "metadata": {
        "id": "WNy5B3t-Zxzd"
      },
      "source": [
        "# Pregunta 1 (12 puntos)\n",
        "\n",
        "En base al notebook ([link](https://drive.google.com/file/d/1U6w7ngQmASnMIgL2kdlNGDvpyX4GHEND/view?usp=sharing))\n",
        "\n",
        "Desarrolle lo siguiente:\n",
        "\n",
        "\n",
        "*   Una función que permita, a través de sliders, recortar una imagen.\n",
        "*   Realizar búsqueda a través de la imagen.\n",
        "\n",
        "\n",
        "**Recuerde que se debe hacer en funciones y verificar las dimensiones (ancho y alto) de la imagen.**"
      ]
    },
    {
      "cell_type": "code",
      "execution_count": null,
      "metadata": {
        "id": "qHYfhPQ1Z34R"
      },
      "outputs": [],
      "source": [
        "# desarrolle su código aquí\n"
      ]
    },
    {
      "cell_type": "markdown",
      "metadata": {
        "id": "GR5pdvbHZ0uu"
      },
      "source": [
        "# Pregunta 2 (8 puntos)\n",
        "\n",
        "Utilice el dataset de mamografías y halle los valores recomendados para min_sigma y max_sigma para hallar masas especuladas.\n",
        "\n",
        "Puede tomar de ejemplo la imagen: mdb97.png\n",
        "\n",
        "Se deja un ejemplo con ese caso con el que puede realizar sus pruebas"
      ]
    },
    {
      "cell_type": "code",
      "execution_count": null,
      "metadata": {
        "id": "mhlV_QE9Z15N"
      },
      "outputs": [],
      "source": [
        "!gdown 1vtZat_H7an2LtXKvo5WQbdXjyJaNdd_u\n",
        "!unzip Imagenes.zip"
      ]
    },
    {
      "cell_type": "code",
      "execution_count": null,
      "metadata": {
        "id": "yEYibwIWQWLp"
      },
      "outputs": [],
      "source": [
        "import cv2\n",
        "import matplotlib.pyplot as plt\n",
        "import numpy as np\n",
        "from skimage import feature, color, filters"
      ]
    },
    {
      "cell_type": "code",
      "execution_count": null,
      "metadata": {
        "id": "Q6vbxexqQTOS"
      },
      "outputs": [],
      "source": [
        "def diferenciaGaussianos2(original_image, plotDog=False):\n",
        "    img = color.rgb2gray(original_image)\n",
        "\n",
        "    k = 1.6\n",
        "\n",
        "    if plotDog:\n",
        "        plt.figure(figsize=(10,10))\n",
        "        plt.subplot(2,3,1)\n",
        "        plt.imshow(original_image)\n",
        "        plt.title('Original Image')\n",
        "\n",
        "    for idx,sigma in enumerate([8.0,16.0,32.0,64.0]):\n",
        "        s1 = filters.gaussian(img,k*sigma)\n",
        "        s2 = filters.gaussian(img,sigma)\n",
        "\n",
        "        # Calcular la diferencia\n",
        "        dog = s1 - s2\n",
        "        plt.subplot(2,3,idx+2)\n",
        "        plt.imshow(dog,cmap='RdBu')\n",
        "        plt.title('DoG with sigma=' + str(sigma) + ', k=' + str(k))\n",
        "\n",
        "    ax = plt.subplot(2,3,6)\n",
        "\n",
        "    #Se calculan los máximos y los mínimos de las diferencias de Gaussianos\n",
        "    blobs_dog = [(x[0],x[1],x[2]) for x in feature.blob_dog(img, min_sigma=35, max_sigma=40,threshold=0.1,overlap=0.5)]\n",
        "\n",
        "    #remove duplicates\n",
        "    blobs_dog = set(blobs_dog)\n",
        "\n",
        "    img_blobs = original_image.copy()\n",
        "    print(blobs_dog)\n",
        "    for blob in blobs_dog:\n",
        "        y, x, r = blob\n",
        "        img_blobs = cv2.circle(img_blobs, (np.int32(x), np.int32(y)), np.int32(r), (0, 255, 0), 2)\n",
        "\n",
        "    if plotDog:\n",
        "        plt.imshow(img_blobs)\n",
        "        plt.title('Detected DoG Maxima')\n",
        "        plt.show()\n",
        "\n",
        "    return img_blobs"
      ]
    },
    {
      "cell_type": "code",
      "execution_count": null,
      "metadata": {
        "id": "8zFAVhcvQgW7"
      },
      "outputs": [],
      "source": [
        "img = cv2.imread('Imagenes/mamografias/mdb97.png')\n",
        "img = img[:,:,::-1]\n",
        "result = diferenciaGaussianos2(img, plotDog=True)"
      ]
    }
  ],
  "metadata": {
    "colab": {
      "provenance": []
    },
    "kernelspec": {
      "display_name": "Python 3",
      "name": "python3"
    },
    "language_info": {
      "codemirror_mode": {
        "name": "ipython",
        "version": 3
      },
      "file_extension": ".py",
      "mimetype": "text/x-python",
      "name": "python",
      "nbconvert_exporter": "python",
      "pygments_lexer": "ipython3",
      "version": "3.11.6"
    }
  },
  "nbformat": 4,
  "nbformat_minor": 0
}
