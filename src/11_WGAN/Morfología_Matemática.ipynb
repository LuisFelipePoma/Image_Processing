{
  "nbformat": 4,
  "nbformat_minor": 0,
  "metadata": {
    "colab": {
      "private_outputs": true,
      "provenance": []
    },
    "kernelspec": {
      "name": "python3",
      "display_name": "Python 3"
    },
    "language_info": {
      "name": "python"
    }
  },
  "cells": [
    {
      "cell_type": "markdown",
      "metadata": {
        "id": "iWAf25vHazDJ"
      },
      "source": [
        "## **Universidad Peruana de Ciencias Aplicadas**\n",
        "### CC235 - Procesamiento de Imágenes\n",
        "### Docente: Peter Montalvo Garcia <pcccpmon@upc.edu.pe>\n",
        "### Morfología matemática\n",
        "\n",
        "---\n",
        "\n",
        "### **Ejercicios de Morfología Matemática**"
      ]
    },
    {
      "cell_type": "code",
      "metadata": {
        "id": "AbH3fb3yahpQ"
      },
      "source": [
        "import numpy as np\n",
        "import skimage.morphology as morph\n",
        "from skimage.io import imread\n",
        "from skimage.measure import label\n",
        "import matplotlib.pyplot as plt\n",
        "from scipy import ndimage\n",
        "from skimage.segmentation import watershed\n",
        "from skimage.feature import peak_local_max\n",
        "%matplotlib inline"
      ],
      "execution_count": null,
      "outputs": []
    },
    {
      "cell_type": "markdown",
      "metadata": {
        "id": "wCc3x3MBIaj2"
      },
      "source": [
        "Vamos a leer una imagen"
      ]
    },
    {
      "cell_type": "code",
      "metadata": {
        "id": "XTTWHwnVGWkE"
      },
      "source": [
        "im = imread('https://www.mathworks.com/help/images/morph_close.png')[:,:256]//255\n",
        "plt.imshow(im, cmap='gray')\n",
        "plt.show()"
      ],
      "execution_count": null,
      "outputs": []
    },
    {
      "cell_type": "markdown",
      "metadata": {
        "id": "1z7n1YqgInP8"
      },
      "source": [
        "Veamos el disco"
      ]
    },
    {
      "cell_type": "code",
      "metadata": {
        "id": "XvE2CcHCIpOV"
      },
      "source": [
        "disk_size_dilatacion = 15\n",
        "morph.disk(disk_size_dilatacion)"
      ],
      "execution_count": null,
      "outputs": []
    },
    {
      "cell_type": "code",
      "metadata": {
        "id": "aaWgfBaNRij_"
      },
      "source": [
        "plt.imshow(morph.disk(disk_size_dilatacion))"
      ],
      "execution_count": null,
      "outputs": []
    },
    {
      "cell_type": "markdown",
      "metadata": {
        "id": "bhvOXBzIJLqb"
      },
      "source": [
        "## Dilatación"
      ]
    },
    {
      "cell_type": "code",
      "metadata": {
        "id": "zG9h6wypIHF5"
      },
      "source": [
        "#@title Dilatación { run: \"auto\" }\n",
        "disk_size = 18 #@param {type:\"slider\", min:1, max:20, step:1}\n",
        "\n",
        "im_dilated = morph.binary_dilation(im, morph.disk(disk_size))\n",
        "plt.imshow(im_dilated, cmap='gray')\n",
        "plt.show()"
      ],
      "execution_count": null,
      "outputs": []
    },
    {
      "cell_type": "markdown",
      "metadata": {
        "id": "4ekrr_pPJOlX"
      },
      "source": [
        "## Erosión"
      ]
    },
    {
      "cell_type": "code",
      "metadata": {
        "id": "d-dgimxEJP3Q"
      },
      "source": [
        "#@title Erosión { run: \"auto\" }\n",
        "disk_size = 15 #@param {type:\"slider\", min:1, max:20, step:1}\n",
        "\n",
        "im_eroded= morph.binary_erosion(im, morph.disk(disk_size))\n",
        "plt.imshow(im_eroded, cmap='gray')\n",
        "plt.show()"
      ],
      "execution_count": null,
      "outputs": []
    },
    {
      "cell_type": "code",
      "metadata": {
        "id": "uizOl4VRH3YA"
      },
      "source": [
        "#@title Dilatación + Erosión { run: \"auto\" }\n",
        "disk_size_dilatacion = 1 #@param {type:\"slider\", min:1, max:20, step:1}\n",
        "disk_size_erosion = 6 #@param {type:\"slider\", min:1, max:20, step:1}\n",
        "\n",
        "im_dilated = morph.binary_dilation(im, morph.disk(disk_size_dilatacion))\n",
        "im_eroded_dilated = morph.binary_erosion(im_dilated, morph.disk(disk_size_erosion))\n",
        "\n",
        "plt.figure(figsize=(10,10))\n",
        "plt.imshow(im_eroded_dilated, cmap='gray')\n",
        "plt.show()"
      ],
      "execution_count": null,
      "outputs": []
    },
    {
      "cell_type": "code",
      "metadata": {
        "id": "SkCXlJQJIDph"
      },
      "source": [
        "#@title Erosión + Dilatación { run: \"auto\" }\n",
        "disk_size_erosion = 17 #@param {type:\"slider\", min:1, max:20, step:1}\n",
        "\n",
        "disk_size_dilatacion = 3 #@param {type:\"slider\", min:1, max:20, step:1}\n",
        "\n",
        "im_eroded = morph.binary_erosion(im, morph.disk(disk_size_erosion))\n",
        "im_dilated_eroded = morph.binary_dilation(im_eroded, morph.disk(disk_size_dilatacion))\n",
        "\n",
        "plt.figure(figsize=(10,10))\n",
        "plt.imshow(im_dilated_eroded, cmap='gray')\n",
        "plt.show()"
      ],
      "execution_count": null,
      "outputs": []
    },
    {
      "cell_type": "markdown",
      "metadata": {
        "id": "h3vEDG11J6Me"
      },
      "source": [
        "## Veamos un caso conocido (conteo de granos de arroz)"
      ]
    },
    {
      "cell_type": "code",
      "metadata": {
        "id": "kWiD-WUvw31a"
      },
      "source": [
        "im1 = imread('https://drive.google.com/uc?id=1p9n9QQ3kl--XTFc2mFyQkCFIpAd5Vke5')\n",
        "plt.imshow(im1)"
      ],
      "execution_count": null,
      "outputs": []
    },
    {
      "cell_type": "code",
      "metadata": {
        "id": "i93geAiyKM9F"
      },
      "source": [
        "im_procesada = im1[:,:, 0]\n",
        "plt.imshow(im_procesada,cmap='gray')"
      ],
      "execution_count": null,
      "outputs": []
    },
    {
      "cell_type": "code",
      "metadata": {
        "id": "-ipRFg3KKA4a"
      },
      "source": [
        "#@title Thresholding { run: \"auto\" }\n",
        "th = 215 #@param {type:\"slider\", min:0, max:255, step:1}\n",
        "im_th = (im_procesada > th)*1.0\n",
        "plt.imshow(im_th,cmap='gray')"
      ],
      "execution_count": null,
      "outputs": []
    },
    {
      "cell_type": "code",
      "metadata": {
        "id": "nf5J8mWNKQIx"
      },
      "source": [
        "#@title Erosión { run: \"auto\" }\n",
        "disk_size = 3 #@param {type:\"slider\", min:1, max:20, step:1}\n",
        "im_eroded= morph.binary_erosion(im_th, morph.disk(disk_size))\n",
        "plt.figure(figsize=(10,10))\n",
        "plt.imshow(im_eroded, cmap='gray')\n",
        "plt.show()"
      ],
      "execution_count": null,
      "outputs": []
    },
    {
      "cell_type": "code",
      "metadata": {
        "id": "Vc6doUMgMWrM"
      },
      "source": [
        "#@title Dilatación { run: \"auto\" }\n",
        "disk_size = 4 #@param {type:\"slider\", min:1, max:20, step:1}\n",
        "\n",
        "im_dilated = morph.binary_dilation(im_th, morph.disk(disk_size))\n",
        "plt.figure(figsize=(10,10))\n",
        "plt.imshow(im_dilated, cmap='gray')\n",
        "plt.show()"
      ],
      "execution_count": null,
      "outputs": []
    },
    {
      "cell_type": "code",
      "metadata": {
        "id": "iXligq-MMdm7"
      },
      "source": [
        "#@title Dilatación + Erosión { run: \"auto\" }\n",
        "disk_size_dilatacion = 1 #@param {type:\"slider\", min:1, max:20, step:1}\n",
        "disk_size_erosion = 5 #@param {type:\"slider\", min:1, max:20, step:1}\n",
        "\n",
        "im_dilated = morph.binary_dilation(im_th, morph.disk(disk_size_dilatacion))\n",
        "im_eroded_dilated = morph.binary_erosion(im_dilated, morph.disk(disk_size_erosion))\n",
        "\n",
        "plt.figure(figsize=(10,10))\n",
        "plt.imshow(im_eroded_dilated, cmap='gray')\n",
        "plt.show()"
      ],
      "execution_count": null,
      "outputs": []
    },
    {
      "cell_type": "code",
      "metadata": {
        "id": "HBx4qXbgMvp7"
      },
      "source": [
        "#@title Erosión + Dilatación { run: \"auto\" }\n",
        "disk_size_erosion = 7 #@param {type:\"slider\", min:1, max:20, step:1}\n",
        "\n",
        "disk_size_dilatacion = 1 #@param {type:\"slider\", min:1, max:20, step:1}\n",
        "\n",
        "im_eroded = morph.binary_erosion(im_th, morph.disk(disk_size_erosion))\n",
        "im_dilated_eroded = morph.binary_dilation(im_eroded, morph.disk(disk_size_dilatacion))\n",
        "\n",
        "plt.figure(figsize=(10,10))\n",
        "plt.imshow(im_dilated_eroded, cmap='gray')\n",
        "plt.show()"
      ],
      "execution_count": null,
      "outputs": []
    }
  ]
}