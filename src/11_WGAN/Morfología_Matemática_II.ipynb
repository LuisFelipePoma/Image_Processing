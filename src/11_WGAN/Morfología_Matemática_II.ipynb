{
  "nbformat": 4,
  "nbformat_minor": 0,
  "metadata": {
    "colab": {
      "private_outputs": true,
      "provenance": []
    },
    "kernelspec": {
      "name": "python3",
      "display_name": "Python 3"
    },
    "language_info": {
      "name": "python"
    }
  },
  "cells": [
    {
      "cell_type": "markdown",
      "metadata": {
        "id": "iWAf25vHazDJ"
      },
      "source": [
        "## **Universidad Peruana de Ciencias Aplicadas**\n",
        "### CC235 - Procesamiento de Imágenes\n",
        "### Docente: Peter Montalvo <pcccpmon@upc.edu.pe>\n",
        "### Aplicaciones Morfología matemática\n",
        "\n",
        "---\n",
        "\n",
        "### **Ejercicios de Morfología Matemática II**"
      ]
    },
    {
      "cell_type": "code",
      "metadata": {
        "id": "AbH3fb3yahpQ"
      },
      "source": [
        "import numpy as np\n",
        "import scipy.io\n",
        "import skimage.morphology as morph\n",
        "from skimage.io import imread\n",
        "from skimage.measure import label\n",
        "import matplotlib.pyplot as plt\n",
        "from scipy import ndimage\n",
        "from skimage.segmentation import watershed\n",
        "from skimage.feature import peak_local_max\n",
        "%matplotlib inline"
      ],
      "execution_count": null,
      "outputs": []
    },
    {
      "cell_type": "markdown",
      "metadata": {
        "id": "wCc3x3MBIaj2"
      },
      "source": [
        "Vamos a leer una imagen y crear el elemento estructurante"
      ]
    },
    {
      "cell_type": "code",
      "metadata": {
        "id": "XTTWHwnVGWkE"
      },
      "source": [
        "A = imread('https://www.mathworks.com/help/images/morph_close.png')[:,:256]//255\n",
        "plt.title(\"A\")\n",
        "plt.imshow(A, cmap='gray')\n",
        "plt.show()"
      ],
      "execution_count": null,
      "outputs": []
    },
    {
      "cell_type": "code",
      "metadata": {
        "id": "pc5xJsKfkeFI"
      },
      "source": [
        "B = morph.square(3)\n",
        "B"
      ],
      "execution_count": null,
      "outputs": []
    },
    {
      "cell_type": "markdown",
      "metadata": {
        "id": "vaStaPEmlLAH"
      },
      "source": [
        "Realicemos la siguiente operación $A - (A \\ominus B)$\n",
        "\n",
        "**Hint:** Recuerde que el operador $\\ominus$ significa erosión binaria."
      ]
    },
    {
      "cell_type": "code",
      "metadata": {
        "id": "h-RA5psIkocY"
      },
      "source": [
        "im_result = A - morph.erosion(A,B)\n",
        "plt.imshow(im_result, cmap='gray')"
      ],
      "execution_count": null,
      "outputs": []
    },
    {
      "cell_type": "markdown",
      "metadata": {
        "id": "Ma0dwpyqo96T"
      },
      "source": [
        "### **Ejercicio 1**\n",
        "\n",
        "Genere una imagen de bordes en la que las líneas correspondan únicamente a círculos y no a círculos traslapados como se ve en la imagen anterior."
      ]
    },
    {
      "cell_type": "code",
      "metadata": {
        "id": "DWOoaRAjo-_m"
      },
      "source": [
        "#desarrolle su código aquí\n",
        "\n",
        "im_result = morph.erosion(A, morph.disk(9))\n",
        "im_result = morph.erosion(im_result, morph.disk(9))\n",
        "\n",
        "im_result = morph.dilation(im_result, morph.disk(3))\n",
        "im_result = morph.dilation(im_result, morph.disk(12))\n",
        "\n",
        "im_result = im_result - morph.erosion(im_result, morph.square(3))\n",
        "\n",
        "plt.imshow(im_result, cmap='gray')"
      ],
      "execution_count": null,
      "outputs": []
    },
    {
      "cell_type": "markdown",
      "metadata": {
        "id": "hSw771Xso_gE"
      },
      "source": [
        "### **Ejercicio 2**\n",
        "\n",
        "Usando el resultado del ejercicio anterior, desarrolle una forma de controlar el grosor de la línea"
      ]
    },
    {
      "cell_type": "code",
      "metadata": {
        "id": "DizsBQWmpAbW"
      },
      "source": [
        "#@title Controlar propiedades de la línea de borde { run: \"auto\" }\n",
        "line_width = 1 #@param {type:\"slider\", min:1, max:10, step:1}\n",
        "\n",
        "#desarrolle su código aquí\n",
        "\n",
        "im_result = morph.erosion(A, morph.disk(9))\n",
        "im_result = morph.erosion(im_result, morph.disk(9))\n",
        "\n",
        "im_result = morph.dilation(im_result, morph.disk(3))\n",
        "im_result = morph.dilation(im_result, morph.disk(12))\n",
        "\n",
        "im_result = im_result - morph.erosion(im_result, morph.square(2*line_width +1 ))\n",
        "\n",
        "plt.imshow(im_result, cmap='gray')"
      ],
      "execution_count": null,
      "outputs": []
    },
    {
      "cell_type": "markdown",
      "metadata": {
        "id": "b97EoyqLpDvh"
      },
      "source": [
        "### **Ejercicio 3**\n",
        "\n",
        "Vamos a cargar imágenes de la suite Mamba"
      ]
    },
    {
      "cell_type": "code",
      "metadata": {
        "id": "Z6UNyMeGpA24"
      },
      "source": [
        "!wget -q -O Mamba_Images.zip http://cmm.ensmp.fr/~beucher/stockage/Mamba_Images.zip\n",
        "!unzip -q Mamba_Images.zip"
      ],
      "execution_count": null,
      "outputs": []
    },
    {
      "cell_type": "markdown",
      "metadata": {
        "id": "8CPQ2WQPuBxv"
      },
      "source": [
        "A continuación, leamos una de las imágenes"
      ]
    },
    {
      "cell_type": "code",
      "metadata": {
        "id": "yaMA1xg4tzLi"
      },
      "source": [
        "cat = imread('Mamba_Images/bin/bigcat.bmp')//255\n",
        "plt.figure()\n",
        "plt.imshow(cat, cmap='gray')\n",
        "plt.axis('off')\n",
        "plt.show()"
      ],
      "execution_count": null,
      "outputs": []
    },
    {
      "cell_type": "markdown",
      "metadata": {
        "id": "W9q308k3uGBV"
      },
      "source": [
        "**Ejercicio 3.1**: Usando operadores morfológicos desarrolle una rutina que mueva al gato un pixel a la derecha, cada vez que sea llamada"
      ]
    },
    {
      "cell_type": "code",
      "metadata": {
        "id": "pWZ1SDFvuGS6"
      },
      "source": [
        "#desarrolle su código aquí\n",
        "import imageio\n",
        "\n",
        "im_result = cat\n",
        "B = np.zeros((3,3))\n",
        "B[1,0] = 1\n",
        "B"
      ],
      "execution_count": null,
      "outputs": []
    },
    {
      "cell_type": "code",
      "metadata": {
        "id": "2HXz5g4IcaPi"
      },
      "source": [
        "\n",
        "print(B)\n",
        "gif = []\n",
        "\n",
        "for i in range(300):\n",
        "  im_result = morph.dilation(im_result, B)\n",
        "  gif.append(im_result*255)\n",
        "\n",
        "\n"
      ],
      "execution_count": null,
      "outputs": []
    },
    {
      "cell_type": "code",
      "metadata": {
        "id": "m_gJVQwJcc2m"
      },
      "source": [
        "gif"
      ],
      "execution_count": null,
      "outputs": []
    },
    {
      "cell_type": "code",
      "metadata": {
        "id": "lBc1RzsZ7tvi"
      },
      "source": [
        "imageio.mimsave('gato.gif', gif)"
      ],
      "execution_count": null,
      "outputs": []
    },
    {
      "cell_type": "code",
      "source": [
        "from IPython.display import Image\n",
        "Image('gato.gif', format='png')"
      ],
      "metadata": {
        "id": "ikbaiKsHEqUy"
      },
      "execution_count": null,
      "outputs": []
    }
  ]
}