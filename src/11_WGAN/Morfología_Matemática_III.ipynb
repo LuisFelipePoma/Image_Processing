{
  "nbformat": 4,
  "nbformat_minor": 0,
  "metadata": {
    "colab": {
      "private_outputs": true,
      "provenance": []
    },
    "kernelspec": {
      "name": "python3",
      "display_name": "Python 3"
    },
    "language_info": {
      "name": "python"
    }
  },
  "cells": [
    {
      "cell_type": "markdown",
      "metadata": {
        "id": "F5-SRAy1bfsn"
      },
      "source": [
        "## **Universidad Peruana de Ciencias Aplicadas**\n",
        "### CC235 - Procesamiento de Imágenes\n",
        "### Docente: Peter Montalvo <pcccpmon@upc.edu.pe>\n",
        "### Aplicaciones Morfología matemática\n",
        "\n",
        "---\n",
        "\n",
        "### **Ejercicios de Morfología Matemática III**"
      ]
    },
    {
      "cell_type": "code",
      "metadata": {
        "id": "9fIeMlmKbVWy"
      },
      "source": [
        "from skimage.morphology import skeletonize\n",
        "from skimage import data\n",
        "import matplotlib.pyplot as plt\n",
        "from skimage.util import invert"
      ],
      "execution_count": null,
      "outputs": []
    },
    {
      "cell_type": "markdown",
      "metadata": {
        "id": "ifjLQhF8b81s"
      },
      "source": [
        "Comenzemos viendo este ejemplo proveniente de https://scikit-image.org/docs/stable/auto_examples/edges/plot_skeleton.html"
      ]
    },
    {
      "cell_type": "code",
      "metadata": {
        "id": "yYMqXZGDbu-a"
      },
      "source": [
        "# Invert the horse image\n",
        "image = invert(data.horse())\n",
        "\n",
        "# perform skeletonization\n",
        "skeleton = skeletonize(image)\n",
        "\n",
        "# display results\n",
        "fig, axes = plt.subplots(nrows=1, ncols=2, figsize=(8, 4),\n",
        "                         sharex=True, sharey=True)\n",
        "\n",
        "ax = axes.ravel()\n",
        "\n",
        "ax[0].imshow(image, cmap=plt.cm.gray)\n",
        "ax[0].axis('off')\n",
        "ax[0].set_title('original', fontsize=20)\n",
        "\n",
        "ax[1].imshow(skeleton, cmap=plt.cm.gray)\n",
        "ax[1].axis('off')\n",
        "ax[1].set_title('skeleton', fontsize=20)\n",
        "\n",
        "fig.tight_layout()\n",
        "plt.show()\n"
      ],
      "execution_count": null,
      "outputs": []
    }
  ]
}