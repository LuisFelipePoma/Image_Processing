{
  "nbformat": 4,
  "nbformat_minor": 0,
  "metadata": {
    "colab": {
      "name": "Algunas Operaciones con Imágenes.ipynb",
      "private_outputs": true,
      "provenance": [],
      "collapsed_sections": []
    },
    "kernelspec": {
      "name": "python3",
      "display_name": "Python 3"
    },
    "language_info": {
      "name": "python"
    }
  },
  "cells": [
    {
      "cell_type": "markdown",
      "metadata": {
        "id": "vwGT7uj_lwkN"
      },
      "source": [
        "# **Algunas Operaciones con Imágenes**"
      ]
    },
    {
      "cell_type": "code",
      "metadata": {
        "id": "CwJ3Vb9MmDf8"
      },
      "source": [
        "import numpy as np\n",
        "from skimage.io import imread, imsave\n",
        "import matplotlib.pyplot as plt"
      ],
      "execution_count": null,
      "outputs": []
    },
    {
      "cell_type": "markdown",
      "metadata": {
        "id": "jFTIA2AFmJP2"
      },
      "source": [
        "### **Leer imágenes a colores**\n",
        "\n"
      ]
    },
    {
      "cell_type": "code",
      "metadata": {
        "id": "hDkx7j3omPKl"
      },
      "source": [
        "im = imread('http://blog.redbus.pe/wp-content/uploads/2019/12/foto-lima.png')\n",
        "print(im.shape)"
      ],
      "execution_count": null,
      "outputs": []
    },
    {
      "cell_type": "code",
      "metadata": {
        "id": "ypVDtpcpmUb1"
      },
      "source": [
        "print(im.dtype)"
      ],
      "execution_count": null,
      "outputs": []
    },
    {
      "cell_type": "code",
      "metadata": {
        "id": "DJjzmzfqmWqt"
      },
      "source": [
        "print(im.min())"
      ],
      "execution_count": null,
      "outputs": []
    },
    {
      "cell_type": "code",
      "metadata": {
        "id": "28C1eogPmZzG"
      },
      "source": [
        "print(im.max())"
      ],
      "execution_count": null,
      "outputs": []
    },
    {
      "cell_type": "code",
      "metadata": {
        "id": "OZuiWB_Bmchl"
      },
      "source": [
        "plt.imshow(im)"
      ],
      "execution_count": null,
      "outputs": []
    },
    {
      "cell_type": "markdown",
      "metadata": {
        "id": "47mN6GpRmsGF"
      },
      "source": [
        "### **Leer imágenes a b/w  a.k.a. grayscale**"
      ]
    },
    {
      "cell_type": "code",
      "metadata": {
        "id": "FhIXOkw0oBnm"
      },
      "source": [
        "im = imread('http://blog.redbus.pe/wp-content/uploads/2019/12/foto-lima.png', as_gray=True)\n",
        "print(im.shape)"
      ],
      "execution_count": null,
      "outputs": []
    },
    {
      "cell_type": "code",
      "metadata": {
        "id": "1WkkHGqSoBnt"
      },
      "source": [
        "print(im.dtype)"
      ],
      "execution_count": null,
      "outputs": []
    },
    {
      "cell_type": "code",
      "metadata": {
        "id": "ZE4X12Z5oBnt"
      },
      "source": [
        "print(im.min())"
      ],
      "execution_count": null,
      "outputs": []
    },
    {
      "cell_type": "code",
      "metadata": {
        "id": "7joXdFjvoBnu"
      },
      "source": [
        "print(im.max())"
      ],
      "execution_count": null,
      "outputs": []
    },
    {
      "cell_type": "code",
      "metadata": {
        "id": "0FYOqGSyoBnu"
      },
      "source": [
        "plt.imshow(im)\n",
        "plt.colorbar()"
      ],
      "execution_count": null,
      "outputs": []
    },
    {
      "cell_type": "code",
      "metadata": {
        "id": "6OVCAzxkoLIx"
      },
      "source": [
        "plt.imshow(im, cmap='gray')"
      ],
      "execution_count": null,
      "outputs": []
    },
    {
      "cell_type": "markdown",
      "metadata": {
        "id": "iT_oy3gGl8PO"
      },
      "source": [
        "### **Convertir a Blanco y Negro**"
      ]
    },
    {
      "cell_type": "code",
      "metadata": {
        "id": "wY0bjjpSmZFt"
      },
      "source": [
        "im = imread('http://blog.redbus.pe/wp-content/uploads/2019/12/foto-lima.png')[:,:,:3]\n",
        "print(im.shape)"
      ],
      "execution_count": null,
      "outputs": []
    },
    {
      "cell_type": "code",
      "metadata": {
        "id": "hdphl6_joXvi"
      },
      "source": [
        "plt.imshow(im)"
      ],
      "execution_count": null,
      "outputs": []
    },
    {
      "cell_type": "code",
      "metadata": {
        "id": "Jx7RlTRxlaC-"
      },
      "source": [
        "im = im.mean(axis=2)\n",
        "im.shape"
      ],
      "execution_count": null,
      "outputs": []
    },
    {
      "cell_type": "code",
      "metadata": {
        "id": "5dR7yHl8itdT"
      },
      "source": [
        "print(im.dtype)"
      ],
      "execution_count": null,
      "outputs": []
    },
    {
      "cell_type": "code",
      "metadata": {
        "id": "LAEV6COUiv7a"
      },
      "source": [
        "print(im.min())"
      ],
      "execution_count": null,
      "outputs": []
    },
    {
      "cell_type": "code",
      "metadata": {
        "id": "jlIwXl-Riysj"
      },
      "source": [
        "print(im.max())"
      ],
      "execution_count": null,
      "outputs": []
    },
    {
      "cell_type": "code",
      "metadata": {
        "id": "Nv97MmNfofES"
      },
      "source": [
        "plt.imshow(im, cmap='gray')"
      ],
      "execution_count": null,
      "outputs": []
    },
    {
      "cell_type": "markdown",
      "metadata": {
        "id": "b6YaP7S_l1EO"
      },
      "source": [
        "### **Operaciones aritméticas con Imágenes -> Adición de imágenes e Interpolación**"
      ]
    },
    {
      "cell_type": "code",
      "metadata": {
        "id": "lee4JtVjqMYS"
      },
      "source": [
        "#@title Descargar Data de Dígitos\n",
        "from tensorflow.keras.datasets import mnist\n",
        "from IPython.display import Image\n",
        "import imageio\n",
        "(x_train, _), (x_test, _) = mnist.load_data()\n",
        "x_train = x_train.astype('float32') / 255.\n",
        "x_test = x_test.astype('float32') / 255.\n",
        "x_train = np.reshape(x_train, (len(x_train), 28, 28, 1))  # adapt this if using `channels_first` image data format\n",
        "x_test = np.reshape(x_test, (len(x_test), 28, 28, 1))  # adapt this if using `channels_first` image data format"
      ],
      "execution_count": null,
      "outputs": []
    },
    {
      "cell_type": "code",
      "metadata": {
        "id": "W6ng69rvl0Qk"
      },
      "source": [
        "#@title Obtener Dígitos **x1** y **x2** (aleatoriamente)\n",
        "idx1 = np.random.randint(x_test.shape[0])\n",
        "idx2 = np.random.randint(x_test.shape[0])\n",
        "x1 = x_test[idx1][None,:]\n",
        "x2 = x_test[idx2][None,:]\n",
        "plt.figure()\n",
        "plt.subplot(1,2, 1)\n",
        "plt.title(\"x1\")\n",
        "plt.imshow(x1[0,:,:,0], cmap='gray')\n",
        "plt.subplot(1,2, 2)\n",
        "plt.title(\"x2\")\n",
        "plt.imshow(x2[0,:,:,0], cmap='gray')\n",
        "plt.show()"
      ],
      "execution_count": null,
      "outputs": []
    },
    {
      "cell_type": "markdown",
      "metadata": {
        "id": "Ne4ugIeu3I3E"
      },
      "source": [
        "### Interpolar en el espacio de los pixeles: $x_1 + \\alpha*(x_2-x_1)$ donde $0 \\leq \\alpha \\leq 1$"
      ]
    },
    {
      "cell_type": "code",
      "metadata": {
        "id": "m18LPYYV7WNW"
      },
      "source": [
        "#@title Generar GIF\n",
        "gif = []\n",
        "for alpha in np.linspace(0,1,100):\n",
        "  pixel_diff = x1 + alpha*(x2-x1)\n",
        "  gif.append(np.uint8(pixel_diff[0,:,:,0]*255))\n",
        "try:\n",
        "  imageio.mimsave('im.gif', gif)\n",
        "except:\n",
        "  pass\n",
        "Image('im.gif', format='png', width=255)"
      ],
      "execution_count": null,
      "outputs": []
    },
    {
      "cell_type": "code",
      "metadata": {
        "id": "K9cd2a5D3I-x"
      },
      "source": [
        "#@title Interpolación { run: \"auto\" }\n",
        "alpha = 0.33 #@param {type:\"slider\", min:0, max:1, step:0.01}\n",
        "pixel_diff = x1 + alpha*(x2-x1)\n",
        "plt.imshow(pixel_diff[0,:,:,0], cmap='gray')"
      ],
      "execution_count": null,
      "outputs": []
    },
    {
      "cell_type": "code",
      "metadata": {
        "id": "qttvMj3TsD1b"
      },
      "source": [],
      "execution_count": null,
      "outputs": []
    }
  ]
}