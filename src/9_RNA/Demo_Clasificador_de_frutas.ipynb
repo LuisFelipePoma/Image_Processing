{
  "cells": [
    {
      "cell_type": "markdown",
      "metadata": {
        "id": "pTyPhkCEDsvJ"
      },
      "source": [
        "# Requisitos"
      ]
    },
    {
      "cell_type": "code",
      "execution_count": null,
      "metadata": {
        "id": "3OWwhBGS-PKe"
      },
      "outputs": [],
      "source": [
        "import numpy as np\n",
        "import matplotlib.pyplot as plt\n",
        "from skimage.transform import resize\n",
        "from sklearn.model_selection import train_test_split\n",
        "from tensorflow.keras.models import Sequential\n",
        "from tensorflow.keras.layers import Dense, Conv2D, MaxPool2D, Flatten\n",
        "from tensorflow.keras.optimizers import SGD"
      ]
    },
    {
      "cell_type": "markdown",
      "metadata": {
        "id": "AvRKIAo8DrL-"
      },
      "source": [
        "# Cargada de datos"
      ]
    },
    {
      "cell_type": "code",
      "execution_count": null,
      "metadata": {
        "colab": {
          "base_uri": "https://localhost:8080/"
        },
        "id": "rimXeIHn_A4y",
        "outputId": "adceb4e6-4540-4610-d168-840d3ffb16f3"
      },
      "outputs": [],
      "source": [
        "!gdown 1H4kSVl34uUNYAoK5irjxsS0RXAe_PP5_\n",
        "!gdown 1Z_OUXBsfCRm2tDuMC2LL1B_1DmpeN9P1"
      ]
    },
    {
      "cell_type": "code",
      "execution_count": null,
      "metadata": {
        "id": "d6Hz1UO9-VdO"
      },
      "outputs": [],
      "source": [
        "X_raw = np.load('X.npy')\n",
        "X_raw = X_raw/255.\n",
        "y = np.load('y.npy')\n",
        "X = []\n",
        "size = (28,28)\n",
        "for x in X_raw:\n",
        "    X.append(resize(x, size))\n",
        "X = np.array(X)"
      ]
    },
    {
      "cell_type": "code",
      "execution_count": null,
      "metadata": {
        "colab": {
          "base_uri": "https://localhost:8080/",
          "height": 508
        },
        "id": "vegPycWY-W-j",
        "outputId": "6f194187-719c-41b3-d645-97cbab70fadf"
      },
      "outputs": [],
      "source": [
        "plt.figure(figsize=(20,10))\n",
        "for i in range(25):\n",
        "    plt.subplot(5,5, i+1)\n",
        "    idx = np.random.choice(X.shape[0], 1)[0]\n",
        "    plt.title('id:{} val:{}'.format(idx, y[idx] ))\n",
        "    plt.imshow(-X[idx], cmap='gray')\n",
        "    plt.axis('off')\n",
        "plt.show()"
      ]
    },
    {
      "cell_type": "markdown",
      "metadata": {
        "id": "-l6EBFqDDnWP"
      },
      "source": [
        "# Entrenamiento del modelo"
      ]
    },
    {
      "cell_type": "code",
      "execution_count": null,
      "metadata": {
        "colab": {
          "base_uri": "https://localhost:8080/"
        },
        "id": "9bJG4cVl-ZfN",
        "outputId": "ea185584-4ba3-461a-e22b-b4091c405c51"
      },
      "outputs": [],
      "source": [
        "X_train, X_test, y_train, y_test = train_test_split(X, y, test_size=0.20, random_state=42, stratify=y)\n",
        "# Ajustamos las dimensiones de las imágenes\n",
        "if X_train.ndim == 3:\n",
        "    X_train = X_train[...,None]\n",
        "    X_test = X_test[..., None]\n",
        "    print(X_train.shape, X_test.shape)"
      ]
    },
    {
      "cell_type": "code",
      "execution_count": null,
      "metadata": {
        "id": "5vVB4ahW-bIe"
      },
      "outputs": [],
      "source": [
        "bs = 16\n",
        "lr = 0.0001\n",
        "class_mapping = {\"Platano\": 0, \"Pera\": 1, \"Manzana\": 2}\n",
        "y_train = np.array([class_mapping[label] for label in y_train])\n",
        "y_test = np.array([class_mapping[label] for label in y_test])\n",
        "y_train = y_train.astype(int)\n",
        "y_test = y_test.astype(int)\n",
        "\n",
        "model = Sequential(\n",
        "    [\n",
        "        Conv2D(32, 3, activation=\"relu\", input_shape=(*size, 1)),\n",
        "        MaxPool2D(),\n",
        "        Conv2D(64, 3, activation=\"relu\", padding=\"same\"),\n",
        "        MaxPool2D(),\n",
        "        Conv2D(128, 3, activation=\"relu\", padding=\"same\"),\n",
        "        MaxPool2D(),\n",
        "        Flatten(),\n",
        "        Dense(128, activation=\"relu\"),  # modificar!\n",
        "        Dense(3, activation=\"softmax\"),\n",
        "    ]\n",
        ")  # no modificar"
      ]
    },
    {
      "cell_type": "code",
      "execution_count": null,
      "metadata": {
        "colab": {
          "base_uri": "https://localhost:8080/"
        },
        "id": "WujH8_ai-chz",
        "outputId": "cd4634a3-a970-43c7-98d6-3427012bf812"
      },
      "outputs": [],
      "source": [
        "optimizer1 = SGD(learning_rate=lr)\n",
        "model.compile(optimizer= optimizer1, loss='sparse_categorical_crossentropy' , metrics=['accuracy'])\n",
        "model.summary()"
      ]
    },
    {
      "cell_type": "code",
      "execution_count": null,
      "metadata": {
        "colab": {
          "base_uri": "https://localhost:8080/"
        },
        "id": "LXj1v6PP-d7m",
        "outputId": "84e26806-73ca-483c-b069-2543b10408c3"
      },
      "outputs": [],
      "source": [
        "log = model.fit(X_train, y_train, batch_size=bs, epochs=800, validation_data=(X_test, y_test))\n",
        "model.save('modelo_entrenado.h5')"
      ]
    },
    {
      "cell_type": "markdown",
      "metadata": {
        "id": "WhoI5VO_DjpR"
      },
      "source": [
        "# Probando el modelo"
      ]
    },
    {
      "cell_type": "code",
      "execution_count": null,
      "metadata": {
        "id": "rsNyqK3A-fdA"
      },
      "outputs": [],
      "source": [
        "#Probando modelo\n",
        "etiqueta_a_fruta = {0: 'Platano', 1: 'Pera', 2: 'Manzana'}"
      ]
    },
    {
      "cell_type": "code",
      "execution_count": null,
      "metadata": {
        "id": "Qq0y5fAQ-gxL"
      },
      "outputs": [],
      "source": [
        "idx = np.random.choice(X_test.shape[0], 1)[0]\n",
        "im = X_test[idx]\n",
        "label = y_test[idx]\n",
        "nombre_fruta = etiqueta_a_fruta.get(label, 'Desconocida')"
      ]
    },
    {
      "cell_type": "code",
      "execution_count": null,
      "metadata": {
        "colab": {
          "base_uri": "https://localhost:8080/",
          "height": 428
        },
        "id": "UD7PG9fI-iXf",
        "outputId": "544ffc34-faea-4afc-e8dc-64d7f96fc22c"
      },
      "outputs": [],
      "source": [
        "plt.title('(test) id:{} val:{} ({})'.format(idx, label, nombre_fruta))\n",
        "plt.axis('off')\n",
        "plt.imshow(-im[:,:,0], cmap='gray')\n",
        "plt.show()\n"
      ]
    },
    {
      "cell_type": "code",
      "execution_count": null,
      "metadata": {
        "colab": {
          "base_uri": "https://localhost:8080/"
        },
        "id": "H6fl0VTk-kI6",
        "outputId": "e0a6ce66-4f0c-4ba9-cec4-5af18ac910d5"
      },
      "outputs": [],
      "source": [
        "#Usando el modelo\n",
        "salida = model.predict(im[None,:,:,:])[0]"
      ]
    },
    {
      "cell_type": "code",
      "execution_count": null,
      "metadata": {
        "colab": {
          "base_uri": "https://localhost:8080/",
          "height": 472
        },
        "id": "MIQXWOok-mc6",
        "outputId": "6dc58c00-44c9-4298-ae72-e594e5f7b102"
      },
      "outputs": [],
      "source": [
        "plt.figure()\n",
        "plt.title(\"Predicción: {} ({}), Label: {}\".format(salida.argmax(), nombre_fruta, label))\n",
        "plt.ylabel(\"Probabilidad\")\n",
        "plt.xlabel(\"Clase\")\n",
        "plt.ylim([0, 1])\n",
        "plt.bar(np.arange(len(salida)), salida)\n",
        "plt.show()"
      ]
    }
  ],
  "metadata": {
    "colab": {
      "provenance": []
    },
    "kernelspec": {
      "display_name": "Python 3",
      "name": "python3"
    },
    "language_info": {
      "name": "python"
    }
  },
  "nbformat": 4,
  "nbformat_minor": 0
}
