{
  "cells": [
    {
      "cell_type": "code",
      "execution_count": null,
      "metadata": {
        "colab": {
          "base_uri": "https://localhost:8080/"
        },
        "id": "i9HlvfDUsl_p",
        "outputId": "d3bed651-ec7f-4381-ce96-a5112f9ef4e2"
      },
      "outputs": [],
      "source": [
        "!pip install tensorflow-addons"
      ]
    },
    {
      "cell_type": "code",
      "execution_count": null,
      "metadata": {
        "id": "zGcCsOilc8b1"
      },
      "outputs": [],
      "source": [
        "import tensorflow as tf\n",
        "import numpy as np\n",
        "import tensorflow_addons as tfa\n",
        "import cv2\n",
        "import matplotlib.pyplot as plt\n",
        "from tensorflow.keras.models import Model\n",
        "from tensorflow.keras.layers import Layer\n",
        "from tensorflow.keras.layers import (Reshape,LeakyReLU,Dropout,Conv2DTranspose, Add, Conv2D, MaxPool2D, Dense,\n",
        "                                     Flatten, InputLayer, BatchNormalization, Input,GlobalAvgPool2D )\n",
        "from tensorflow.keras.optimizers import Adam"
      ]
    },
    {
      "cell_type": "markdown",
      "metadata": {
        "id": "gPLHB2s5gBJu"
      },
      "source": [
        "# Data Management"
      ]
    },
    {
      "cell_type": "markdown",
      "metadata": {
        "id": "Jxp5Z_jrkdEh"
      },
      "source": [
        "## Download Data"
      ]
    },
    {
      "cell_type": "code",
      "execution_count": null,
      "metadata": {
        "colab": {
          "base_uri": "https://localhost:8080/"
        },
        "id": "3NiRHE9BkH0Q",
        "outputId": "84662880-c0d0-4ab7-ce59-f9fb72d73bdf"
      },
      "outputs": [],
      "source": [
        "!pip install -q kaggle\n",
        "! mkdir ~/.kaggle\n",
        "! cp kaggle.json ~/.kaggle/\n",
        "!chmod 600 /root/.kaggle/kaggle.json\n",
        "!kaggle datasets download -d ashishjangra27/face-mask-12k-images-dataset\n",
        "!unzip \"/content/face-mask-12k-images-dataset.zip\" -d \"/content/dataset/\""
      ]
    },
    {
      "cell_type": "markdown",
      "metadata": {
        "id": "01HyLXUakfff"
      },
      "source": [
        "## Prepare data"
      ]
    },
    {
      "cell_type": "code",
      "execution_count": null,
      "metadata": {
        "id": "AvT7q9eEkH5E"
      },
      "outputs": [],
      "source": [
        "BATCH_SIZE = 128\n",
        "IM_SHAPE = (64,64,3)\n",
        "LEARNING_RATE = 2e-4"
      ]
    },
    {
      "cell_type": "code",
      "execution_count": null,
      "metadata": {
        "colab": {
          "base_uri": "https://localhost:8080/"
        },
        "id": "L5idj96ykH7o",
        "outputId": "ec35bdfb-eb8d-4776-94d2-da2215fbd80a"
      },
      "outputs": [],
      "source": [
        "ds_masked=tf.keras.preprocessing.image_dataset_from_directory(\n",
        "    \"/content/dataset/Face Mask Dataset/Train/WithMask\", label_mode=None, image_size=(IM_SHAPE[0], IM_SHAPE[1]), batch_size=BATCH_SIZE\n",
        ")"
      ]
    },
    {
      "cell_type": "code",
      "execution_count": null,
      "metadata": {
        "colab": {
          "base_uri": "https://localhost:8080/"
        },
        "id": "1FLN-cyT4LCJ",
        "outputId": "82de1d95-e99f-444e-bff7-aa0cf00a3444"
      },
      "outputs": [],
      "source": [
        "ds_test_masked=tf.keras.preprocessing.image_dataset_from_directory(\n",
        "    \"/content/dataset/Face Mask Dataset/Test/WithMask\", label_mode=None, image_size=(IM_SHAPE[0], IM_SHAPE[1]), batch_size=BATCH_SIZE\n",
        ")"
      ]
    },
    {
      "cell_type": "code",
      "execution_count": null,
      "metadata": {
        "colab": {
          "base_uri": "https://localhost:8080/"
        },
        "id": "J5gdsp5_kH-B",
        "outputId": "8073adeb-0a7e-4309-ae5f-8992c991033b"
      },
      "outputs": [],
      "source": [
        "ds_unmasked=tf.keras.preprocessing.image_dataset_from_directory(\n",
        "    \"/content/dataset/Face Mask Dataset/Train/WithoutMask\", label_mode=None, image_size=(IM_SHAPE[0], IM_SHAPE[1]), batch_size=BATCH_SIZE\n",
        ")"
      ]
    },
    {
      "cell_type": "code",
      "execution_count": null,
      "metadata": {
        "id": "o_9VHtj8kIAk"
      },
      "outputs": [],
      "source": [
        "def preprocess(image):\n",
        "  return tf.cast(image,tf.float32)/127.5 - 1.0"
      ]
    },
    {
      "cell_type": "code",
      "execution_count": null,
      "metadata": {
        "id": "Dp4qpKe4kIDO"
      },
      "outputs": [],
      "source": [
        "train_masked_dataset = (\n",
        "    ds_masked\n",
        "    .map(preprocess)\n",
        "    .unbatch()\n",
        "    .shuffle(buffer_size = 1024, reshuffle_each_iteration = True)\n",
        "    .batch(BATCH_SIZE,drop_remainder=True)\n",
        "    .prefetch(tf.data.AUTOTUNE)\n",
        ")"
      ]
    },
    {
      "cell_type": "code",
      "execution_count": null,
      "metadata": {
        "id": "n9tsijde4JC4"
      },
      "outputs": [],
      "source": [
        "test_masked_dataset = (\n",
        "    ds_test_masked\n",
        "    .map(preprocess)\n",
        "    .unbatch()\n",
        "    .shuffle(buffer_size = 1024, reshuffle_each_iteration = True)\n",
        "    .batch(BATCH_SIZE,drop_remainder=True)\n",
        "    .prefetch(tf.data.AUTOTUNE)\n",
        ")"
      ]
    },
    {
      "cell_type": "code",
      "execution_count": null,
      "metadata": {
        "id": "NhdKlFEDkIGU"
      },
      "outputs": [],
      "source": [
        "train_unmasked_dataset = (\n",
        "    ds_unmasked\n",
        "    .map(preprocess)\n",
        "    .unbatch()\n",
        "    .shuffle(buffer_size = 1024, reshuffle_each_iteration = True)\n",
        "    .batch(BATCH_SIZE,drop_remainder=True)\n",
        "    .prefetch(tf.data.AUTOTUNE)\n",
        ")"
      ]
    },
    {
      "cell_type": "code",
      "execution_count": null,
      "metadata": {
        "id": "_x7uJFaikIKf"
      },
      "outputs": [],
      "source": [
        "train_dataset=tf.data.Dataset.zip((train_masked_dataset, train_unmasked_dataset))"
      ]
    },
    {
      "cell_type": "code",
      "execution_count": null,
      "metadata": {
        "colab": {
          "base_uri": "https://localhost:8080/"
        },
        "id": "rf7OIohkkINq",
        "outputId": "81034cd8-f4b8-42be-f820-d1c6c8dba41d"
      },
      "outputs": [],
      "source": [
        "for d in train_dataset.take(1):\n",
        "  d_masked,d_unmasked=d\n",
        "  print(d_masked.shape,d_unmasked.shape)"
      ]
    },
    {
      "cell_type": "code",
      "execution_count": null,
      "metadata": {
        "colab": {
          "base_uri": "https://localhost:8080/",
          "height": 357
        },
        "id": "4E5RBEHWkIP9",
        "outputId": "1553cd50-70c3-44e9-d549-d3dcb1d60d30"
      },
      "outputs": [],
      "source": [
        "plt.figure(figsize = (6,6))\n",
        "k=0\n",
        "n = 16\n",
        "for i in range(n):\n",
        "  ax = plt.subplot(4,4, k+1)\n",
        "  if i%2==0:\n",
        "    plt.imshow((d_masked[i]+1)/2)\n",
        "  if i%2!=0:\n",
        "    plt.imshow((d_unmasked[i]+1)/2)\n",
        "\n",
        "  plt.axis(\"off\")\n",
        "  k+=1"
      ]
    },
    {
      "cell_type": "markdown",
      "metadata": {
        "id": "rqspKyU_ny5V"
      },
      "source": [
        "# Modeling"
      ]
    },
    {
      "cell_type": "code",
      "execution_count": null,
      "metadata": {
        "id": "ni3A9hDmgKKU"
      },
      "outputs": [],
      "source": [
        "def downsample(filters,kernel_size,apply_instance_norm=True,n_strides=2):\n",
        "\n",
        "  model=tf.keras.Sequential()\n",
        "  model.add(Conv2D(filters,kernel_size,strides=n_strides,padding='same',\n",
        "             kernel_initializer=tf.keras.initializers.RandomNormal(0.,0.02),use_bias=False))\n",
        "  if apply_instance_norm:\n",
        "    model.add(tfa.layers.InstanceNormalization())\n",
        "  model.add(LeakyReLU(0.2))\n",
        "\n",
        "  return model"
      ]
    },
    {
      "cell_type": "code",
      "execution_count": null,
      "metadata": {
        "id": "Z-T6KQtFs8RT"
      },
      "outputs": [],
      "source": [
        "def upsample(filters,kernel_size):\n",
        "\n",
        "  model=tf.keras.Sequential([\n",
        "      Conv2DTranspose(filters,kernel_size,strides=2,padding='same',\n",
        "             kernel_initializer=tf.keras.initializers.RandomNormal(0.,0.02),use_bias=False),\n",
        "      tfa.layers.InstanceNormalization(),\n",
        "      LeakyReLU(0.2),\n",
        "\n",
        "  ])\n",
        "  return model"
      ]
    },
    {
      "cell_type": "code",
      "execution_count": null,
      "metadata": {
        "id": "N4y2nBVzs8T1"
      },
      "outputs": [],
      "source": [
        "def generator():\n",
        "  input=Input((IM_SHAPE[0],IM_SHAPE[1],3))\n",
        "  x=input\n",
        "  store=[]\n",
        "  for filter in [32,64,128,256,512,]:\n",
        "    x=downsample(filter,4)(x)\n",
        "    store.append(x)\n",
        "\n",
        "  for filter in [512,256,128,64,32]:\n",
        "    x=tf.concat([x,store.pop()],axis=-1)\n",
        "    x=upsample(filter,4)(x)\n",
        "\n",
        "  x=Conv2DTranspose(3,4,strides=1,padding='same',\n",
        "             kernel_initializer=tf.keras.initializers.RandomNormal(0.,0.02),activation='tanh',)(x)\n",
        "\n",
        "  model=tf.keras.Model(input,x, name='unet_generator')\n",
        "  return model"
      ]
    },
    {
      "cell_type": "code",
      "execution_count": null,
      "metadata": {
        "colab": {
          "base_uri": "https://localhost:8080/"
        },
        "id": "7S6ceU4Ds8WI",
        "outputId": "b4adc725-4099-4ece-f27f-5ee9ef6b355f"
      },
      "outputs": [],
      "source": [
        "generator().summary()"
      ]
    },
    {
      "cell_type": "code",
      "execution_count": null,
      "metadata": {
        "id": "kuoE5g-4s8Yi"
      },
      "outputs": [],
      "source": [
        "def discriminator():\n",
        "  input=Input((IM_SHAPE[0],IM_SHAPE[1],3))\n",
        "  x=input\n",
        "\n",
        "  x=downsample(32,4,apply_instance_norm=False)(x)\n",
        "  x=downsample(64,4,apply_instance_norm=True)(x)\n",
        "  x=downsample(128,4,apply_instance_norm=True)(x)\n",
        "  x=downsample(256,4,apply_instance_norm=True,)(x)\n",
        "  x=downsample(256,4,apply_instance_norm=True,n_strides=1)(x)\n",
        "  x=Conv2D(1,4,strides=1,padding='same',\n",
        "             kernel_initializer=tf.keras.initializers.RandomNormal(0.,0.02),)(x)\n",
        "  model=tf.keras.Model(input,x, name='discriminator')\n",
        "  return model"
      ]
    },
    {
      "cell_type": "code",
      "execution_count": null,
      "metadata": {
        "colab": {
          "base_uri": "https://localhost:8080/"
        },
        "id": "35T8jhBSs8ao",
        "outputId": "76fe927b-b26f-4542-a535-f805ed086983"
      },
      "outputs": [],
      "source": [
        "discriminator().summary()"
      ]
    },
    {
      "cell_type": "code",
      "execution_count": null,
      "metadata": {
        "id": "rPWYh4Rms8cw"
      },
      "outputs": [],
      "source": [
        "generator_masked_unmasked=generator()\n",
        "generator_unmasked_masked=generator()\n",
        "\n",
        "discriminator_unmasked=discriminator()\n",
        "discriminator_masked=discriminator()"
      ]
    },
    {
      "cell_type": "code",
      "execution_count": null,
      "metadata": {
        "id": "eQJxjbtJs8e2"
      },
      "outputs": [],
      "source": [
        "class CycleGAN(tf.keras.Model):\n",
        "  def __init__(\n",
        "      self,\n",
        "      discriminator_unmasked,discriminator_masked,\n",
        "      generator_masked_unmasked,generator_unmasked_masked):\n",
        "    super(CycleGAN,self).__init__()\n",
        "\n",
        "    self.discriminator_unmasked=discriminator_unmasked\n",
        "    self.discriminator_masked=discriminator_masked\n",
        "    self.generator_masked_unmasked=generator_masked_unmasked\n",
        "    self.generator_unmasked_masked=generator_unmasked_masked\n",
        "\n",
        "  def compile(\n",
        "      self,\n",
        "      discriminator_optimizer,generator_optimizer,\n",
        "      discriminator_loss_fn,generator_loss_fn,\n",
        "      cycle_loss_fn,\n",
        "      lambda_cycle,):\n",
        "    super(CycleGAN,self).compile()\n",
        "\n",
        "    self.discriminator_optimizer=discriminator_optimizer\n",
        "    self.generator_optimizer=generator_optimizer\n",
        "    self.discriminator_loss_fn=discriminator_loss_fn\n",
        "    self.generator_loss_fn=generator_loss_fn\n",
        "    self.cycle_loss_fn=cycle_loss_fn\n",
        "    self.lambda_cycle=lambda_cycle\n",
        "    self.d_loss_masked_metric=tf.keras.metrics.Mean(name='d_loss_masked')\n",
        "    self.d_loss_unmasked_metric=tf.keras.metrics.Mean(name='d_loss_unmasked')\n",
        "    self.g_loss_masked_unmasked_metric=tf.keras.metrics.Mean(name='g_loss_masked_unmasked')\n",
        "    self.g_loss_unmasked_masked_metric=tf.keras.metrics.Mean(name='g_loss_unmasked_masked')\n",
        "\n",
        "\n",
        "  @property\n",
        "  def metrics(self):\n",
        "    return [self.d_loss_masked_metric,self.d_loss_unmasked_metric,\n",
        "            self.g_loss_masked_unmasked_metric,self.g_loss_unmasked_masked_metric]\n",
        "\n",
        "  def train_step(self,real_images):\n",
        "    real_masked,real_unmasked=real_images\n",
        "\n",
        "    ######## Discriminator\n",
        "    fake_unmasked=self.generator_masked_unmasked(real_masked)\n",
        "    fake_masked=self.generator_unmasked_masked(real_unmasked)\n",
        "\n",
        "    with tf.GradientTape(persistent=True) as recorder:\n",
        "      real_unmasked_predictions=self.discriminator_unmasked(real_unmasked)\n",
        "      fake_unmasked_predictions=self.discriminator_unmasked(fake_unmasked)\n",
        "      d_loss_unmasked=self.discriminator_loss_fn(real_unmasked_predictions,fake_unmasked_predictions)\n",
        "\n",
        "      real_masked_predictions=self.discriminator_masked(real_masked)\n",
        "      fake_masked_predictions=self.discriminator_masked(fake_masked)\n",
        "      d_loss_masked=self.discriminator_loss_fn(real_masked_predictions,fake_masked_predictions)\n",
        "\n",
        "    partial_derivatives = recorder.gradient(d_loss_unmasked,self.discriminator_unmasked.trainable_weights)\n",
        "    self.discriminator_optimizer.apply_gradients(zip(partial_derivatives, self.discriminator_unmasked.trainable_weights))\n",
        "    partial_derivatives = recorder.gradient(d_loss_masked,self.discriminator_masked.trainable_weights)\n",
        "    self.discriminator_optimizer.apply_gradients(zip(partial_derivatives, self.discriminator_masked.trainable_weights))\n",
        "\n",
        "    ############# Generator\n",
        "    with tf.GradientTape(persistent=True) as recorder:\n",
        "\n",
        "      fake_unmasked=self.generator_masked_unmasked(real_masked)\n",
        "      fake_masked_cycled=self.generator_unmasked_masked(fake_unmasked)\n",
        "\n",
        "      fake_masked=self.generator_unmasked_masked(real_unmasked)\n",
        "      fake_unmasked_cycled=self.generator_masked_unmasked(fake_masked)\n",
        "\n",
        "      fake_unmasked_predictions=self.discriminator_unmasked(fake_unmasked)\n",
        "      g_loss_unmasked=self.generator_loss_fn(fake_unmasked_predictions)\n",
        "\n",
        "      fake_masked_predictions=self.discriminator_masked(fake_masked)\n",
        "      g_loss_masked=self.generator_loss_fn(fake_masked_predictions)\n",
        "\n",
        "      cycle_consistency_loss=self.cycle_loss_fn(fake_masked_cycled,real_masked)+self.cycle_loss_fn(fake_unmasked_cycled,real_unmasked)\n",
        "      cycle_consistency_loss*=self.lambda_cycle\n",
        "\n",
        "      g_loss_masked+=cycle_consistency_loss\n",
        "      g_loss_unmasked+=cycle_consistency_loss\n",
        "\n",
        "    partial_derivatives = recorder.gradient(g_loss_masked,self.generator_unmasked_masked.trainable_weights)\n",
        "    self.generator_optimizer.apply_gradients(zip(partial_derivatives, self.generator_unmasked_masked.trainable_weights))\n",
        "\n",
        "    partial_derivatives = recorder.gradient(g_loss_unmasked,self.generator_masked_unmasked.trainable_weights)\n",
        "    self.generator_optimizer.apply_gradients(zip(partial_derivatives, self.generator_masked_unmasked.trainable_weights))\n",
        "\n",
        "    self.d_loss_masked_metric.update_state(d_loss_masked)\n",
        "    self.d_loss_unmasked_metric.update_state(d_loss_unmasked)\n",
        "    self.g_loss_unmasked_masked_metric.update_state(g_loss_masked)\n",
        "    self.g_loss_masked_unmasked_metric.update_state(g_loss_unmasked)\n",
        "\n",
        "    return {\n",
        "        'g_loss_masked_unmasked':self.g_loss_unmasked_masked_metric.result(),\n",
        "        'g_loss_unmasked_masked':self.g_loss_masked_unmasked_metric.result(),\n",
        "        'd_loss_masked':self.d_loss_masked_metric.result(),\n",
        "        'd_loss_unmasked':self.d_loss_unmasked_metric.result(),\n",
        "        }"
      ]
    },
    {
      "cell_type": "code",
      "execution_count": null,
      "metadata": {
        "id": "cevKQjf5s8g7"
      },
      "outputs": [],
      "source": [
        "def discriminator_loss_fn(real_predictions,fake_predictions):\n",
        "  bce=tf.keras.losses.BinaryCrossentropy(from_logits=True,reduction=tf.keras.losses.Reduction.NONE)\n",
        "\n",
        "  real_loss=bce(tf.ones_like(real_predictions),real_predictions)\n",
        "  fake_loss=bce(tf.zeros_like(fake_predictions),fake_predictions)\n",
        "  return 0.5*(real_loss+fake_loss)"
      ]
    },
    {
      "cell_type": "code",
      "execution_count": null,
      "metadata": {
        "id": "tlNSvmb5s8nJ"
      },
      "outputs": [],
      "source": [
        "def generator_loss_fn(fake_predictions):\n",
        "  bce=tf.keras.losses.BinaryCrossentropy(from_logits=True,reduction=tf.keras.losses.Reduction.NONE)\n",
        "  return bce(tf.ones_like(fake_predictions),fake_predictions)"
      ]
    },
    {
      "cell_type": "code",
      "execution_count": null,
      "metadata": {
        "id": "pxFjdqMis8pq"
      },
      "outputs": [],
      "source": [
        "def cycle_loss_fn(fake_cycled_image,real_image):\n",
        "  return tf.reduce_mean(tf.abs(fake_cycled_image-real_image))"
      ]
    },
    {
      "cell_type": "code",
      "execution_count": null,
      "metadata": {
        "id": "iccl3u2Ds8tM"
      },
      "outputs": [],
      "source": [
        "generator_optimizer = tf.keras.optimizers.Adam(1e-4, beta_1=0.5)\n",
        "discriminator_optimizer = tf.keras.optimizers.Adam(1e-4, beta_1=0.5)"
      ]
    },
    {
      "cell_type": "code",
      "execution_count": null,
      "metadata": {
        "id": "mPXWY7k7s8u2"
      },
      "outputs": [],
      "source": [
        "cycle_gan=CycleGAN(\n",
        "    discriminator_unmasked,discriminator_masked,\n",
        "    generator_masked_unmasked,generator_unmasked_masked)"
      ]
    },
    {
      "cell_type": "code",
      "execution_count": null,
      "metadata": {
        "id": "Wuro7GCFs8wl"
      },
      "outputs": [],
      "source": [
        "cycle_gan.compile(\n",
        "    discriminator_optimizer,generator_optimizer,\n",
        "    discriminator_loss_fn,generator_loss_fn,\n",
        "    cycle_loss_fn,\n",
        "    15.0,\n",
        ")"
      ]
    },
    {
      "cell_type": "code",
      "execution_count": null,
      "metadata": {
        "colab": {
          "base_uri": "https://localhost:8080/"
        },
        "id": "_gSBJ4JD46S2",
        "outputId": "8ccf4d24-680f-49f9-9a23-50e8a57ce707"
      },
      "outputs": [],
      "source": [
        "!mkdir generated"
      ]
    },
    {
      "cell_type": "code",
      "execution_count": null,
      "metadata": {
        "id": "BfXROxAW5ZCi"
      },
      "outputs": [],
      "source": [
        "for d in test_masked_dataset.take(1):\n",
        "  test_masked=d"
      ]
    },
    {
      "cell_type": "code",
      "execution_count": null,
      "metadata": {
        "id": "uAw03SXQ4Dkz"
      },
      "outputs": [],
      "source": [
        "class Unmask(tf.keras.callbacks.Callback):\n",
        "    def on_epoch_end(self, epoch, logs=None):\n",
        "\n",
        "      n=4\n",
        "      k=0\n",
        "      out=cycle_gan.generator_masked_unmasked(test_masked)\n",
        "      plt.figure(figsize = (6,6))\n",
        "      k=0\n",
        "      n = 16\n",
        "      for i in range(n):\n",
        "        ax = plt.subplot(4,4, k+1)\n",
        "        if i%2==0:\n",
        "          plt.imshow((test_masked[i]+1)/2)\n",
        "        if i%2!=0:\n",
        "          plt.imshow((out[i-1]+1)/2)\n",
        "\n",
        "        plt.axis(\"off\")\n",
        "        k+=1\n",
        "      plt.savefig(\"generated/gen_images_epoch_{}.png\".format(epoch+1))"
      ]
    },
    {
      "cell_type": "code",
      "execution_count": null,
      "metadata": {
        "colab": {
          "base_uri": "https://localhost:8080/",
          "height": 1000
        },
        "id": "mro0B27ns8x_",
        "outputId": "061ca77a-14fc-4392-e07b-17f72d66d336"
      },
      "outputs": [],
      "source": [
        "cycle_gan.fit(\n",
        "    train_dataset,\n",
        "    epochs=200,\n",
        "    callbacks=[Unmask()]\n",
        ")"
      ]
    },
    {
      "cell_type": "code",
      "execution_count": null,
      "metadata": {
        "id": "0T-MNQDDs807"
      },
      "outputs": [],
      "source": []
    },
    {
      "cell_type": "code",
      "execution_count": null,
      "metadata": {
        "id": "Dwhja8N4s82w"
      },
      "outputs": [],
      "source": []
    },
    {
      "cell_type": "code",
      "execution_count": null,
      "metadata": {
        "id": "1S3_wUGLs845"
      },
      "outputs": [],
      "source": []
    },
    {
      "cell_type": "code",
      "execution_count": null,
      "metadata": {
        "id": "kN3objSYs87e"
      },
      "outputs": [],
      "source": []
    },
    {
      "cell_type": "code",
      "execution_count": null,
      "metadata": {
        "id": "fivvn4A5s8-F"
      },
      "outputs": [],
      "source": []
    },
    {
      "cell_type": "code",
      "execution_count": null,
      "metadata": {
        "id": "5PfyUe8ls9Av"
      },
      "outputs": [],
      "source": []
    }
  ],
  "metadata": {
    "accelerator": "GPU",
    "colab": {
      "provenance": []
    },
    "gpuClass": "standard",
    "kernelspec": {
      "display_name": "Python 3",
      "name": "python3"
    },
    "language_info": {
      "name": "python"
    }
  },
  "nbformat": 4,
  "nbformat_minor": 0
}
