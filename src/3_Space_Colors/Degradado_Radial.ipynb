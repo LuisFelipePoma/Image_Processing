{
  "cells": [
    {
      "cell_type": "code",
      "execution_count": null,
      "metadata": {
        "colab": {
          "base_uri": "https://localhost:8080/",
          "height": 311
        },
        "id": "BVwXOFWuJWlM",
        "outputId": "054dd5b1-2f93-40fe-9677-e873bae2bd37"
      },
      "outputs": [],
      "source": [
        "import numpy as np\n",
        "import matplotlib.pyplot as plt\n",
        "\n",
        "R = 255\n",
        "G = 255\n",
        "B = 0\n",
        "\n",
        "R1 = 0\n",
        "G1 = 147\n",
        "B1 = 47\n",
        "\n",
        "valores_color = np.linspace(np.array([R, G, B]), np.array([R1, G1, B1]), 100)\n",
        "imagen = np.zeros((50, 100, 3), dtype=np.uint8)\n",
        "\n",
        "# Obtenemos las dimensiones de la imagen\n",
        "alto, ancho, _ = imagen.shape\n",
        "# Calculamos el centro de la imagen\n",
        "centro_x, centro_y = ancho // 2, alto // 2\n",
        "\n",
        "# Llenamos la imagen con los colores degradados radiales\n",
        "for y in range(alto):\n",
        "    for x in range(ancho):\n",
        "        # Calculamos la distancia al centro\n",
        "        distancia_al_centro = np.sqrt((x - centro_x)**2 + (y - centro_y)**2)\n",
        "        # Convertimos la distancia a un valor entre 0 y 1\n",
        "        factor = distancia_al_centro / np.sqrt(centro_x**2 + centro_y**2)\n",
        "        # Encontramos el índice correspondiente en los valores de color\n",
        "        indice_color = int(factor * (len(valores_color) - 1))\n",
        "        color = valores_color[indice_color]\n",
        "        imagen[y, x] = color\n",
        "\n",
        "plt.figure(0)\n",
        "plt.imshow(imagen)\n",
        "plt.show()"
      ]
    }
  ],
  "metadata": {
    "colab": {
      "provenance": []
    },
    "kernelspec": {
      "display_name": "Python 3",
      "name": "python3"
    },
    "language_info": {
      "name": "python"
    }
  },
  "nbformat": 4,
  "nbformat_minor": 0
}
