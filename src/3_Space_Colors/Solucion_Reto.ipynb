{
  "cells": [
    {
      "cell_type": "code",
      "execution_count": null,
      "metadata": {
        "colab": {
          "base_uri": "https://localhost:8080/"
        },
        "id": "YlH0PHENdqKA",
        "outputId": "5e7fe8e9-8ab0-49ec-95fc-f2023ad704cb"
      },
      "outputs": [],
      "source": [
        "!gdown --id 1YZll1bI4DwWAXeSeqmVbuxzPvG4Eybsj"
      ]
    },
    {
      "cell_type": "code",
      "execution_count": null,
      "metadata": {
        "colab": {
          "base_uri": "https://localhost:8080/"
        },
        "id": "s4FTLA55d1cu",
        "outputId": "b4474753-3e19-420f-adc6-3fb3526921ba"
      },
      "outputs": [],
      "source": [
        "!unzip reto.zip"
      ]
    },
    {
      "cell_type": "code",
      "execution_count": null,
      "metadata": {
        "id": "UvoN4wT8d3--"
      },
      "outputs": [],
      "source": [
        "import numpy as np\n",
        "from skimage.io import imread, imsave\n",
        "import matplotlib.pyplot as plt\n",
        "\n",
        "image_stack = []\n",
        "stack_size = 1000\n",
        "for i in range(stack_size):\n",
        "  im = imread('im_{}.png'.format(i), as_gray = True)\n",
        "  image_stack.append(im)\n"
      ]
    },
    {
      "cell_type": "code",
      "execution_count": null,
      "metadata": {
        "colab": {
          "base_uri": "https://localhost:8080/"
        },
        "id": "UW2iKcx7eT1y",
        "outputId": "ea562d32-add8-4cd7-920f-13792248a705"
      },
      "outputs": [],
      "source": [
        "image_stack"
      ]
    },
    {
      "cell_type": "code",
      "execution_count": null,
      "metadata": {
        "colab": {
          "base_uri": "https://localhost:8080/"
        },
        "id": "Z_9-VUWhedq6",
        "outputId": "b92985db-d1a0-4bfb-b122-f9af1aefb70a"
      },
      "outputs": [],
      "source": [
        "image_stack = np.array(image_stack)\n",
        "image_stack.shape"
      ]
    },
    {
      "cell_type": "code",
      "execution_count": null,
      "metadata": {
        "colab": {
          "base_uri": "https://localhost:8080/",
          "height": 246
        },
        "id": "AUeH3Mk3ehrO",
        "outputId": "7d1511d9-8012-418d-d8dd-d26febb90c2f"
      },
      "outputs": [],
      "source": [
        "plt.imshow(image_stack.mean(axis=0), cmap='gray')"
      ]
    }
  ],
  "metadata": {
    "colab": {
      "provenance": []
    },
    "kernelspec": {
      "display_name": "Python 3",
      "name": "python3"
    },
    "language_info": {
      "name": "python"
    }
  },
  "nbformat": 4,
  "nbformat_minor": 0
}
