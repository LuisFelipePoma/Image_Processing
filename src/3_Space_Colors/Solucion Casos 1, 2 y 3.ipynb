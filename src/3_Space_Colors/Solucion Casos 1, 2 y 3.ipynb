{
  "cells": [
    {
      "cell_type": "markdown",
      "metadata": {
        "id": "lluvgxUsxnRA"
      },
      "source": [
        "## Colores RGB\n",
        "\n",
        "---"
      ]
    },
    {
      "cell_type": "code",
      "execution_count": null,
      "metadata": {
        "id": "FOqIHJ5bxnRD"
      },
      "outputs": [],
      "source": [
        "import matplotlib.pyplot as plt\n",
        "import numpy as np"
      ]
    },
    {
      "cell_type": "code",
      "execution_count": null,
      "metadata": {
        "id": "UoCV3KsQkETL"
      },
      "outputs": [],
      "source": [
        "#@title Colores RGB { run: \"auto\" }\n",
        "R = 255 #@param {type:\"slider\", min:0, max:255, step:1}\n",
        "G = 255 #@param {type:\"slider\", min:0, max:255, step:1}\n",
        "B = 0 #@param {type:\"slider\", min:0, max:255, step:1}\n",
        "\n",
        "# use estos parámetros para la actividad\n",
        "R1 = 0 #@param {type:\"slider\", min:0, max:255, step:1}\n",
        "G1 = 147 #@param {type:\"slider\", min:0, max:255, step:1}\n",
        "B1 = 47 #@param {type:\"slider\", min:0, max:255, step:1}\n",
        "\n",
        "# crea una matriz de valores que va desde el valor del color inicial \n",
        "#hasta el valor del color final en la cantidad de pasos especificada\n",
        "#Tambien asignamos el numero de pasos de cada transicion\n",
        "\n",
        "valores_color = np.linspace(np.array([R,G,B]),np.array([R1,G1,B1]),100)\n",
        "#vamos a crear una imagen de 100x100x3\n",
        "# la tercera dimensión son los colores\n",
        "imagen = np.zeros((50,100,3), dtype=np.uint8)\n",
        "\n",
        "# luego llenamos los valores de los canales\n",
        "# asignamos los valores de color a la imagen en cada paso\n",
        "for i, valor in enumerate(valores_color):\n",
        "    imagen[:,i,0] = valor[0]\n",
        "    imagen[:,i,1] = valor[1]\n",
        "    imagen[:,i,2] = valor[2]\n",
        "\n",
        "# mostramos la imagen\n",
        "plt.figure(0)\n",
        "plt.imshow(imagen)\n",
        "plt.show()"
      ]
    },
    {
      "cell_type": "code",
      "execution_count": null,
      "metadata": {
        "id": "TT6Jtub3kPDh"
      },
      "outputs": [],
      "source": [
        "#@title Colores RGB { run: \"auto\" }\n",
        "R = 255 #@param {type:\"slider\", min:0, max:255, step:1}\n",
        "G = 255 #@param {type:\"slider\", min:0, max:255, step:1}\n",
        "B = 0 #@param {type:\"slider\", min:0, max:255, step:1}\n",
        "\n",
        "# use estos parámetros para la actividad\n",
        "R1 = 0 #@param {type:\"slider\", min:0, max:255, step:1}\n",
        "G1 = 147 #@param {type:\"slider\", min:0, max:255, step:1}\n",
        "B1 = 47 #@param {type:\"slider\", min:0, max:255, step:1}\n",
        "\n",
        "valores_color = np.linspace(np.array([R,G,B]),np.array([R1,G1,B1]),100)\n",
        "\n",
        "#vamos a crear una imagen de 100x100x3\n",
        "# la tercera dimensión son los colores\n",
        "imagen = np.zeros((100,50,3), dtype=np.uint8)\n",
        "\n",
        "# luego llenamos los valores de los canales\n",
        "for i, valor in enumerate(valores_color):\n",
        "    imagen[i,:,0] = valor[0]\n",
        "    imagen[i,:,1] = valor[1]\n",
        "    imagen[i,:,2] = valor[2]\n",
        "\n",
        "# mostramos la imagen\n",
        "plt.figure(0)\n",
        "plt.imshow(imagen)\n",
        "plt.show()"
      ]
    },
    {
      "cell_type": "code",
      "execution_count": null,
      "metadata": {
        "id": "9T69R_vKxnRD"
      },
      "outputs": [],
      "source": [
        "#@title Colores RGB { run: \"auto\" }\n",
        "R = 255 #@param {type:\"slider\", min:0, max:255, step:1}\n",
        "G = 255 #@param {type:\"slider\", min:0, max:255, step:1}\n",
        "B = 0 #@param {type:\"slider\", min:0, max:255, step:1}\n",
        "\n",
        "# use estos parámetros para la actividad\n",
        "R1 = 0 #@param {type:\"slider\", min:0, max:255, step:1}\n",
        "G1 = 147 #@param {type:\"slider\", min:0, max:255, step:1}\n",
        "B1 = 47 #@param {type:\"slider\", min:0, max:255, step:1}\n",
        "\n",
        "valores_color = np.linspace(np.array([R,G,B]),np.array([R1,G1,B1]),100)\n",
        "\n",
        "#vamos a crear una imagen de 100x100x3\n",
        "# la tercera dimensión son los colores\n",
        "imagen = np.zeros((100,100,3), dtype=np.uint8)\n",
        "\n",
        "# luego llenamos los valores de los canales\n",
        "for i, valor in enumerate(valores_color):\n",
        "    imagen[i,:,0] = valor[0]\n",
        "    imagen[i,:,1] = valor[1]\n",
        "    imagen[i,:,2] = valor[2]\n",
        "    imagen[:,i,0] = valor[0]\n",
        "    imagen[:,i,1] = valor[1]\n",
        "    imagen[:,i,2] = valor[2]\n",
        "\n",
        "# mostramos la imagen\n",
        "plt.figure(0)\n",
        "plt.imshow(imagen)\n",
        "plt.show()\n"
      ]
    }
  ],
  "metadata": {
    "colab": {
      "private_outputs": true,
      "provenance": []
    },
    "kernelspec": {
      "display_name": "Python 3",
      "name": "python3"
    },
    "language_info": {
      "name": "python",
      "version": "3.11.6"
    }
  },
  "nbformat": 4,
  "nbformat_minor": 0
}
