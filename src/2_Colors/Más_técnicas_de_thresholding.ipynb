{
  "cells": [
    {
      "cell_type": "markdown",
      "metadata": {
        "id": "NFAMtQxqP_UG"
      },
      "source": [
        "Basado en: https://docs.opencv.org/4.x/d7/d4d/tutorial_py_thresholding.html\n",
        "\n",
        "Veremos el thresholding adaptativo y Otsu."
      ]
    },
    {
      "cell_type": "markdown",
      "metadata": {
        "id": "5A6gFWH7QK1T"
      },
      "source": [
        "# Adaptativo\n",
        "En un notebook anterior, usamos un valor global como umbral. Pero esto podría no ser bueno en todos los casos; por ejemplo, si una imagen tiene diferentes condiciones de iluminación en diferentes áreas.\n",
        "\n",
        "En ese caso, el thresholding (o umbral) adaptativo puede ayudar. Aquí, el algoritmo determina el umbral para un píxel en función de una pequeña región a su alrededor. Entonces obtenemos diferentes umbrales para diferentes regiones de la misma imagen, lo que da mejores resultados para imágenes con iluminación variable."
      ]
    },
    {
      "cell_type": "code",
      "execution_count": null,
      "metadata": {
        "colab": {
          "base_uri": "https://localhost:8080/"
        },
        "id": "j7iiUIzvQig9",
        "outputId": "f0ec111e-eb28-4c2e-a87b-ad82d431fa33"
      },
      "outputs": [],
      "source": [
        "!wget https://thumbs.dreamstime.com/b/sudoku-puzzle-863979.jpg"
      ]
    },
    {
      "cell_type": "code",
      "execution_count": null,
      "metadata": {
        "colab": {
          "base_uri": "https://localhost:8080/"
        },
        "id": "oJ_WBz1wQ98d",
        "outputId": "bd94d2ef-5fd5-48bb-a6d9-dfd3142ce8eb"
      },
      "outputs": [],
      "source": [
        "# !sudo pip install cv2 --break-system"
      ]
    },
    {
      "cell_type": "code",
      "execution_count": null,
      "metadata": {
        "colab": {
          "base_uri": "https://localhost:8080/",
          "height": 268
        },
        "id": "c81gGPoTP4H7",
        "outputId": "d6fd86e6-45fa-4b5b-8e12-634b672f63c2"
      },
      "outputs": [],
      "source": [
        "import cv2 as cv\n",
        "import numpy as np\n",
        "from matplotlib import pyplot as plt\n",
        "img = cv.imread('sudoku-puzzle-863979.jpg',cv.IMREAD_GRAYSCALE)\n",
        "img = cv.medianBlur(img,5)\n",
        "ret,th1 = cv.threshold(img,127,255,cv.THRESH_BINARY)\n",
        "th2 = cv.adaptiveThreshold(img,255,cv.ADAPTIVE_THRESH_MEAN_C,\\\n",
        "            cv.THRESH_BINARY,11,2)\n",
        "th3 = cv.adaptiveThreshold(img,255,cv.ADAPTIVE_THRESH_GAUSSIAN_C,\\\n",
        "            cv.THRESH_BINARY,11,2)\n",
        "titles = ['Original Image', 'Global Thresholding (v = 127)',\n",
        "            'Adaptive Mean Thresholding', 'Adaptive Gaussian Thresholding']\n",
        "images = [img, th1, th2, th3]\n",
        "for i in range(4):\n",
        "    plt.subplot(2,2,i+1),plt.imshow(images[i],'gray')\n",
        "    plt.title(titles[i])\n",
        "    plt.xticks([]),plt.yticks([])\n",
        "plt.show()"
      ]
    },
    {
      "cell_type": "markdown",
      "metadata": {
        "id": "d39KAHG4Raxg"
      },
      "source": [
        "# Otsu thresholding\n",
        "\n",
        "En el umbral global, usamos un valor elegido arbitrariamente como umbral. En cambio, el método de Otsu evita tener que elegir un valor y lo determina automáticamente.\n",
        "\n",
        "Considere una imagen con solo dos valores de imagen distintos (imagen bimodal), donde el histograma solo consistiría en dos picos. Un buen umbral estaría en el medio de esos dos valores. De manera similar, el método de Otsu determina un valor de umbral global óptimo a partir del histograma de la imagen."
      ]
    },
    {
      "cell_type": "code",
      "execution_count": null,
      "metadata": {
        "colab": {
          "base_uri": "https://localhost:8080/"
        },
        "id": "X9LgLUQQRyJi",
        "outputId": "0afb252c-dca7-4fbe-c1b5-e4170e5bc1e5"
      },
      "outputs": [],
      "source": [
        "!wget https://deaenij3kiw8r.cloudfront.net/system/users/avatars/224173/artist_profile/production-8c074eb606f1a58588de50372709a196-penum.png"
      ]
    },
    {
      "cell_type": "code",
      "execution_count": null,
      "metadata": {
        "colab": {
          "base_uri": "https://localhost:8080/",
          "height": 268
        },
        "id": "gKNAy8YZRaHD",
        "outputId": "76a7096d-f965-40ce-ee31-b90cf8942485"
      },
      "outputs": [],
      "source": [
        "import cv2 as cv\n",
        "import numpy as np\n",
        "from matplotlib import pyplot as plt\n",
        "img = cv.imread('production-8c074eb606f1a58588de50372709a196-penum.png',0)\n",
        "# global thresholding\n",
        "ret1,th1 = cv.threshold(img,127,255,cv.THRESH_BINARY)\n",
        "# Otsu's thresholding\n",
        "ret2,th2 = cv.threshold(img,0,255,cv.THRESH_BINARY+cv.THRESH_OTSU)\n",
        "# Otsu's thresholding after Gaussian filtering\n",
        "blur = cv.GaussianBlur(img,(5,5),0)\n",
        "ret3,th3 = cv.threshold(blur,0,255,cv.THRESH_BINARY+cv.THRESH_OTSU)\n",
        "# plot all the images and their histograms\n",
        "images = [img, 0, th1,\n",
        "          img, 0, th2,\n",
        "          blur, 0, th3]\n",
        "titles = ['Original Noisy Image','Histogram','Global Thresholding (v=127)',\n",
        "          'Original Noisy Image','Histogram',\"Otsu's Thresholding\",\n",
        "          'Gaussian filtered Image','Histogram',\"Otsu's Thresholding\"]\n",
        "for i in range(3):\n",
        "    plt.subplot(3,3,i*3+1),plt.imshow(images[i*3],'gray')\n",
        "    plt.title(titles[i*3]), plt.xticks([]), plt.yticks([])\n",
        "    plt.subplot(3,3,i*3+2),plt.hist(images[i*3].ravel(),256)\n",
        "    plt.title(titles[i*3+1]), plt.xticks([]), plt.yticks([])\n",
        "    plt.subplot(3,3,i*3+3),plt.imshow(images[i*3+2],'gray')\n",
        "    plt.title(titles[i*3+2]), plt.xticks([]), plt.yticks([])\n",
        "plt.show()"
      ]
    }
  ],
  "metadata": {
    "colab": {
      "provenance": []
    },
    "kernelspec": {
      "display_name": "Python 3",
      "name": "python3"
    },
    "language_info": {
      "codemirror_mode": {
        "name": "ipython",
        "version": 3
      },
      "file_extension": ".py",
      "mimetype": "text/x-python",
      "name": "python",
      "nbconvert_exporter": "python",
      "pygments_lexer": "ipython3",
      "version": "3.11.3"
    }
  },
  "nbformat": 4,
  "nbformat_minor": 0
}
