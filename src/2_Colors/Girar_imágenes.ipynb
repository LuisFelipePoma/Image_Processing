{
  "cells": [
    {
      "cell_type": "code",
      "execution_count": null,
      "metadata": {
        "id": "GlsoU-sQQQ8o"
      },
      "outputs": [],
      "source": [
        "# recordar:\n",
        "texto = 'Procesamiento de imágenes'"
      ]
    },
    {
      "cell_type": "code",
      "execution_count": null,
      "metadata": {
        "colab": {
          "base_uri": "https://localhost:8080/",
          "height": 35
        },
        "id": "Qxcdq8e-x-ft",
        "outputId": "0cbe0600-eff7-4b63-88f8-9407d4e9508f"
      },
      "outputs": [],
      "source": [
        "texto[::-1]"
      ]
    },
    {
      "cell_type": "code",
      "execution_count": null,
      "metadata": {
        "colab": {
          "base_uri": "https://localhost:8080/"
        },
        "id": "tIk4UPshyME6",
        "outputId": "db3d80fb-8875-4580-8da1-9ded1ca50029"
      },
      "outputs": [],
      "source": [
        "!wget https://dam.smashmexico.com.mx/wp-content/uploads/2019/07/meme-spiderman.jpg -O image.jpg"
      ]
    },
    {
      "cell_type": "code",
      "execution_count": null,
      "metadata": {
        "colab": {
          "base_uri": "https://localhost:8080/",
          "height": 286
        },
        "id": "JLfzBF2PyS9P",
        "outputId": "43eb594a-508a-410c-f4fa-f4630321ec6f"
      },
      "outputs": [],
      "source": [
        "import matplotlib.pyplot as plt\n",
        "\n",
        "im=plt.imread('image.jpg')\n",
        "plt.imshow(im)"
      ]
    },
    {
      "cell_type": "code",
      "execution_count": null,
      "metadata": {
        "colab": {
          "base_uri": "https://localhost:8080/",
          "height": 286
        },
        "id": "ftbOC18Ryf7T",
        "outputId": "206c03dd-79f7-4d2b-bbbb-5bff8be23473"
      },
      "outputs": [],
      "source": [
        "#slicing vertical\n",
        "plt.imshow(im[:,550:,:])"
      ]
    },
    {
      "cell_type": "code",
      "execution_count": null,
      "metadata": {
        "colab": {
          "base_uri": "https://localhost:8080/",
          "height": 286
        },
        "id": "5drJebkEyuIH",
        "outputId": "5876d7fb-e1ee-4875-e58d-d4506f4eddaa"
      },
      "outputs": [],
      "source": [
        "plt.imshow(im[:150,:220,:])"
      ]
    },
    {
      "cell_type": "code",
      "execution_count": null,
      "metadata": {
        "id": "A281AFTWzD-M"
      },
      "outputs": [],
      "source": [
        "# guardar un slicing:\n",
        "im_spiderman_recortado = im[:,550:,:]"
      ]
    },
    {
      "cell_type": "code",
      "execution_count": null,
      "metadata": {
        "colab": {
          "base_uri": "https://localhost:8080/",
          "height": 286
        },
        "id": "pl2ibIM1zPpj",
        "outputId": "9ff4cc83-6dde-4a70-eab7-399ed1549d1b"
      },
      "outputs": [],
      "source": [
        "plt.imshow(im_spiderman_recortado)"
      ]
    },
    {
      "cell_type": "code",
      "execution_count": null,
      "metadata": {
        "colab": {
          "base_uri": "https://localhost:8080/",
          "height": 286
        },
        "id": "hKO0HWM5zbIv",
        "outputId": "6d53ce5e-da4d-4087-d468-cd8eee27fc26"
      },
      "outputs": [],
      "source": [
        "plt.imshow(im_spiderman_recortado[:,::-1,:])\n",
        "im_spiderman_recortado2 = im_spiderman_recortado[:,::-1,:]"
      ]
    },
    {
      "cell_type": "code",
      "execution_count": null,
      "metadata": {},
      "outputs": [],
      "source": [
        "import numpy as np"
      ]
    },
    {
      "cell_type": "code",
      "execution_count": null,
      "metadata": {},
      "outputs": [],
      "source": [
        "img_double = np.column_stack((im_spiderman_recortado2,im_spiderman_recortado))\n",
        "plt.imshow(img_double)"
      ]
    },
    {
      "cell_type": "code",
      "execution_count": null,
      "metadata": {},
      "outputs": [],
      "source": [
        "imagen_final = im.copy()\n",
        "imagen_final[:,:350,:] = im_spiderman_recortado[:,::-1,:]"
      ]
    },
    {
      "cell_type": "code",
      "execution_count": null,
      "metadata": {},
      "outputs": [],
      "source": [
        "plt.imshow(imagen_final)"
      ]
    }
  ],
  "metadata": {
    "colab": {
      "provenance": []
    },
    "kernelspec": {
      "display_name": "Python 3",
      "name": "python3"
    },
    "language_info": {
      "codemirror_mode": {
        "name": "ipython",
        "version": 3
      },
      "file_extension": ".py",
      "mimetype": "text/x-python",
      "name": "python",
      "nbconvert_exporter": "python",
      "pygments_lexer": "ipython3",
      "version": "3.11.6"
    }
  },
  "nbformat": 4,
  "nbformat_minor": 0
}
